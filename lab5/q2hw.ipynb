{
 "cells": [
  {
   "cell_type": "markdown",
   "metadata": {},
   "source": [
    "# SORTED ARRAY"
   ]
  },
  {
   "cell_type": "code",
   "execution_count": 1,
   "metadata": {},
   "outputs": [
    {
     "name": "stdout",
     "output_type": "stream",
     "text": [
      "Median: 44.0\n"
     ]
    }
   ],
   "source": [
    "def findMedian(arr1, arr2, n):\n",
    "    if n == 0:\n",
    "        return -1\n",
    "    elif n == 1:\n",
    "        return (arr1[0]+arr2[0])/2\n",
    "         \n",
    "    elif n == 2:\n",
    "        return (max(arr1[0], arr2[0]) +\n",
    "                min(arr1[1], arr2[1])) / 2\n",
    "    else:\n",
    "        m1 = median(arr1, n)\n",
    "        m2 = median(arr2, n)\n",
    "         \n",
    "        if m1 > m2:\n",
    "             \n",
    "            if n % 2 == 0:\n",
    "                return findMedian(arr1[:int(n / 2) + 1],\n",
    "                        arr2[int(n / 2) - 1:], int(n / 2) + 1)\n",
    "            else:\n",
    "                return findMedian(arr1[:int(n / 2) + 1],\n",
    "                        arr2[int(n / 2):], int(n / 2) + 1)\n",
    "         \n",
    "        else:\n",
    "            if n % 2 == 0:\n",
    "                return findMedian(arr1[int(n / 2 - 1):],\n",
    "                        arr2[:int(n / 2 + 1)], int(n / 2) + 1)\n",
    "            else:\n",
    "                return findMedian(arr1[int(n / 2):],\n",
    "                        arr2[0:int(n / 2) + 1], int(n / 2) + 1)\n",
    " \n",
    "def median(arr, n):\n",
    "    if n % 2 == 0:\n",
    "        return (arr[int(n / 2)] +\n",
    "                arr[int(n / 2) - 1]) / 2\n",
    "    else:\n",
    "        return arr[int(n/2)]\n",
    " \n",
    "     \n",
    "\n",
    "arr1 = [12,23,43,55,60]\n",
    "arr2 = [2,15,45,53,78]\n",
    "n = len(arr1)\n",
    "print(\"Median:\",findMedian(arr1,arr2,n))"
   ]
  },
  {
   "cell_type": "markdown",
   "metadata": {},
   "source": [
    "# UNSORTED ARRAY"
   ]
  },
  {
   "cell_type": "code",
   "execution_count": 10,
   "metadata": {},
   "outputs": [
    {
     "name": "stdout",
     "output_type": "stream",
     "text": [
      "Median is  6.0\n"
     ]
    }
   ],
   "source": [
    "def getMedian( ar1, ar2 , n):\n",
    "    i = 0 \n",
    "    j = 0\n",
    "    med1 = -1\n",
    "    med2 = -1\n",
    "    cnt = 0\n",
    "    while cnt < n + 1:\n",
    "# we calculate the medians which we reprsented by med1 & med2 of the input arrays. \n",
    "   and ar2[] respectively\n",
    "        cnt += 1\n",
    "        if i == n:\n",
    "#If both of our medians are equal then there will be no issue thus we used break.\n",
    "     return m1 (or m2)\n",
    "            med1 = med2\n",
    "            med2 = ar2[0]\n",
    "            break\n",
    "        elif j == n:\n",
    "            med1 = med2\n",
    "            med2 = ar1[0]\n",
    "            break\n",
    "#If med1 is more than m2, then the answer is in arr1\n",
    "   of the below two subarrays.\n",
    "        if ar1[i] <= ar2[j]:\n",
    "            med1 = med2 \n",
    "            med2 = ar1[i]\n",
    "            i += 1\n",
    "        else:\n",
    "            med1 = med2 \n",
    "            med2 = ar2[j]\n",
    "            j += 1\n",
    "    return (med1 + med2)/2\n",
    "ar1 = [1, 2, 7, 6, 3]\n",
    "ar2 = [4, 6, 11, 10, 8]\n",
    "ar1.sort()\n",
    "ar2.sort()\n",
    "n1 = len(ar1)\n",
    "n2 = len(ar2)\n",
    "print(\"Median is \", getMedian(ar1, ar2, n1))\n"
   ]
  },
  {
   "cell_type": "code",
   "execution_count": null,
   "metadata": {},
   "outputs": [],
   "source": []
  }
 ],
 "metadata": {
  "kernelspec": {
   "display_name": "Python 3",
   "language": "python",
   "name": "python3"
  },
  "language_info": {
   "codemirror_mode": {
    "name": "ipython",
    "version": 3
   },
   "file_extension": ".py",
   "mimetype": "text/x-python",
   "name": "python",
   "nbconvert_exporter": "python",
   "pygments_lexer": "ipython3",
   "version": "3.7.6"
  }
 },
 "nbformat": 4,
 "nbformat_minor": 4
}
