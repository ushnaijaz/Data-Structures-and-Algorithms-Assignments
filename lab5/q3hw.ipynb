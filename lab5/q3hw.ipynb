{
 "cells": [
  {
   "cell_type": "markdown",
   "metadata": {},
   "source": [
    "# QUICK SORT IMPLEMENTATION"
   ]
  },
  {
   "cell_type": "code",
   "execution_count": 8,
   "metadata": {},
   "outputs": [],
   "source": [
    "import random\n",
    "import time"
   ]
  },
  {
   "cell_type": "code",
   "execution_count": 9,
   "metadata": {},
   "outputs": [],
   "source": [
    "%matplotlib inline\n",
    "import matplotlib\n",
    "import numpy as np\n",
    "import matplotlib.pyplot as plt\n",
    "from random import choice"
   ]
  },
  {
   "cell_type": "code",
   "execution_count": 10,
   "metadata": {},
   "outputs": [],
   "source": [
    "def insertion_sort(A):\n",
    "   \n",
    "    for index in range(1, len(A)):\n",
    "        i = A[index]\n",
    "        j = index\n",
    "       \n",
    "        while j > 0 and A[j - 1] > i:\n",
    "            A[j] = A[j -1]\n",
    "            j = j- 1\n",
    "\n",
    "        A[j] = i"
   ]
  },
  {
   "cell_type": "code",
   "execution_count": 11,
   "metadata": {},
   "outputs": [
    {
     "name": "stdout",
     "output_type": "stream",
     "text": [
      "sorted array: [4, 8, 10, 16, 28, 34, 36, 37, 42, 42, 60]\n"
     ]
    }
   ],
   "source": [
    "A = [8, 4, 42, 34, 28, 60, 36, 16, 42, 37, 10]\n",
    "insertion_sort(A)\n",
    "print(\"sorted array: \" + str(A))"
   ]
  },
  {
   "cell_type": "code",
   "execution_count": 12,
   "metadata": {},
   "outputs": [],
   "source": [
    "def merge(L, R):\n",
    "    i = 0 \n",
    "    j = 0 \n",
    "    ret = []\n",
    "    while i < len(L) and j < len(R):\n",
    "        if L[i] < R[j]:\n",
    "            ret.append(L[i])\n",
    "            i += 1\n",
    "        else:   \n",
    "            ret.append(R[j])\n",
    "            j += 1\n",
    "    while i < len(L):\n",
    "        ret.append(L[i])\n",
    "        i += 1\n",
    "    while j < len(R):\n",
    "        ret.append(R[j])\n",
    "        j+= 1\n",
    "    return ret\n",
    "        \n",
    "def mergeSort(A):\n",
    "    n = len(A)\n",
    "    if n <= 1:\n",
    "        return A\n",
    "    L = mergeSort(A[:round(n/2)])\n",
    "    R = mergeSort(A[round(n/2):n])\n",
    "    return merge(L,R)"
   ]
  },
  {
   "cell_type": "code",
   "execution_count": 13,
   "metadata": {},
   "outputs": [
    {
     "name": "stdout",
     "output_type": "stream",
     "text": [
      "[1, 22, 32, 34, 48, 61, 65, 78, 96]\n"
     ]
    }
   ],
   "source": [
    "A = [32,65,34,61,22,78,96,1,48]\n",
    "print(mergeSort(A))"
   ]
  },
  {
   "cell_type": "code",
   "execution_count": 14,
   "metadata": {},
   "outputs": [],
   "source": [
    "# swap A[i] with A[j]\n",
    "def swap(A, i, j):\n",
    "    tmp = A[i]\n",
    "    A[i] = A[j]\n",
    "    A[j] = tmp\n",
    "\n",
    "# Here's one in-place Partition algorithm. This is the one in CLRS\n",
    "def partition1(A, start, end, p):\n",
    "    # first put the pivot at the end\n",
    "    x = A[p]\n",
    "    swap(A, p, end-1)\n",
    "    # now do the algorithm described in CLRS (see the textbook for explanation)\n",
    "    i = start - 1\n",
    "    for j in range(start, end-1):\n",
    "        if A[j] <= x:\n",
    "            i += 1\n",
    "            swap(A, i, j)\n",
    "    # at this point all of the things <=i are smaller than the pivot, and > i are larger\n",
    "    # so put the pivot back where it needs to go.\n",
    "    swap(A, i+1, end-1)\n",
    "    return i+1\n",
    "\n",
    "\n",
    "# Here is a different in-place Partition algorithm.  This was the original one introduced by Hoare.\n",
    "def partition2(A, start, end, p):\n",
    "    # first swap to put the pivot at the end\n",
    "    x = A[p]\n",
    "    swap(A, p, end-1)\n",
    "    # walk pointers up and down the array in opposite directions, switching things until they are in the right place.\n",
    "    leftP = start\n",
    "    rightP = end-1 \n",
    "    while True:\n",
    "        while leftP < end-1 and A[leftP] <= x:\n",
    "            leftP += 1\n",
    "        while rightP > start and A[rightP] >= x:\n",
    "            rightP -= 1\n",
    "        if leftP >= rightP:\n",
    "            break\n",
    "        # now switch them.\n",
    "        swap(A, leftP, rightP)\n",
    "    # now put the pivot value in the right place and return that location\n",
    "    swap(A, end-1, leftP)\n",
    "    return leftP\n",
    "        \n",
    "# Finally, the quickSort algorithm.  \n",
    "# In addition to A, it also takes an optional input \"partition\" which is which partition function to use.\n",
    "def quickSort(A, partition=partition1):\n",
    "    return quickSortHelper(A, 0, len(A), partition)\n",
    "        \n",
    "def quickSortHelper(A, start, end, partition):\n",
    "    if end - start <= 1:\n",
    "        return \n",
    "    # choose a random pivot:\n",
    "    p = choice(range(start, end)) \n",
    "    # partition around the pivot:\n",
    "    pivotLocation = partition( A, start, end, p ) \n",
    "    # recurse:\n",
    "    quickSortHelper(A,start, pivotLocation ,partition)\n",
    "    quickSortHelper(A,pivotLocation + 1, end, partition)\n",
    "    return\n",
    "\n",
    "# define two versions of quicksort, one for each partition function, so we can compare later.\n",
    "def quickSort1(A):\n",
    "    return quickSort(A, partition1)\n",
    "def quickSort2(A):\n",
    "    return quickSort(A, partition2)"
   ]
  },
  {
   "cell_type": "code",
   "execution_count": 15,
   "metadata": {},
   "outputs": [
    {
     "name": "stdout",
     "output_type": "stream",
     "text": [
      "[1, 1, 2, 2, 3, 3, 4, 4, 5, 5, 234]\n",
      "[1, 1, 2, 2, 3, 3, 4, 4, 5, 5, 234]\n"
     ]
    }
   ],
   "source": [
    "A = [5,4,2,3,1,1,2,3,4,5,234]\n",
    "quickSort1(A)\n",
    "print(A)\n",
    "quickSort2(A)\n",
    "print(A)"
   ]
  },
  {
   "cell_type": "code",
   "execution_count": 16,
   "metadata": {},
   "outputs": [],
   "source": [
    "for a in range(1, 8):\n",
    "    with open(str(10 ** a)+\".txt\", 'w') as arrFile:\n",
    "        for j in range(10 ** a):\n",
    "            arrFile.write(str(random.randint(0, 200))+\"\\n\")\n"
   ]
  },
  {
   "cell_type": "code",
   "execution_count": 35,
   "metadata": {},
   "outputs": [
    {
     "name": "stdout",
     "output_type": "stream",
     "text": [
      "Time Taken for Insertion sort: 0.0\n",
      "Time Taken for merge sort: 0.0\n",
      "Time Taken for quick sort: 0.0\n"
     ]
    }
   ],
   "source": [
    "array1 = open(\"10.txt\",'r') \n",
    "A = array1. read(). splitlines()\n",
    "start=time.time()\n",
    "insertion_sort(A)\n",
    "final=time.time()  \n",
    "for item in A:\n",
    "    f.write(str(item)+\" \")       \n",
    "f.write(\"\\n\")\n",
    "print(\"Time Taken for Insertion sort:\",final-start)\n",
    "start=time.time()\n",
    "mergeSort(A)\n",
    "final=time.time() \n",
    "for item in A:\n",
    "    f.write(item+\" \")          \n",
    "f.write(\"\\n\")\n",
    "print(\"Time Taken for merge sort:\",final-start)\n",
    "start=time.time()\n",
    "quickSort1(A)\n",
    "quickSort2(A)\n",
    "final=time.time() \n",
    "for item in A:\n",
    "    f.write(item+\" \")          \n",
    "f.write(\"\\n\")\n",
    "print(\"Time Taken for quick sort:\",final-start)\n"
   ]
  },
  {
   "cell_type": "code",
   "execution_count": 43,
   "metadata": {},
   "outputs": [
    {
     "name": "stdout",
     "output_type": "stream",
     "text": [
      "Time Taken for insertion sort: 0.0\n",
      "Time Taken for merge sort: 0.0\n",
      "Time Taken for quick sort: 0.007989883422851562\n"
     ]
    }
   ],
   "source": [
    "array2 = open(\"100.txt\",'r') \n",
    "B = array2. read(). splitlines()\n",
    "start=time.time()\n",
    "insertion_sort(B)\n",
    "end=time.time() \n",
    "for item in B:\n",
    "    f.write(item+\" \")         \n",
    "f.write(\"\\n\")\n",
    "print(\"Time Taken for insertion sort:\",end-start)\n",
    "start=time.time()\n",
    "mergeSort(B)\n",
    "end=time.time() \n",
    "for item in B:\n",
    "    f.write(item+\" \")          \n",
    "f.write(\"\\n\")\n",
    "print(\"Time Taken for merge sort:\",end-start)\n",
    "start=time.time()\n",
    "quickSort1(B)\n",
    "quickSort2(B)\n",
    "end=time.time() \n",
    "for item in B:\n",
    "    f.write(item+\" \")          \n",
    "f.write(\"\\n\")\n",
    "print(\"Time Taken for quick sort:\",end-start)\n"
   ]
  },
  {
   "cell_type": "code",
   "execution_count": 44,
   "metadata": {},
   "outputs": [
    {
     "name": "stdout",
     "output_type": "stream",
     "text": [
      "Time Taken for insertion sort: 0.12412452697753906\n",
      "Time Taken for merge sort: 0.010055780410766602\n",
      "Time Taken for quick sort: 0.010042428970336914\n"
     ]
    }
   ],
   "source": [
    "array3 = open(\"1000.txt\",'r') \n",
    "C = array3. read(). splitlines()\n",
    "start=time.time()\n",
    "insertion_sort(C)\n",
    "end=time.time() \n",
    "for item in C:\n",
    "    f.write(item+\" \")         \n",
    "f.write(\"\\n\")\n",
    "print(\"Time Taken for insertion sort:\",end-start)\n",
    "start=time.time()\n",
    "mergeSort(C)\n",
    "end=time.time() \n",
    "for item in C:\n",
    "    f.write(item+\" \")          \n",
    "f.write(\"\\n\")\n",
    "print(\"Time Taken for merge sort:\",end-start)\n",
    "start=time.time()\n",
    "quickSort1(C)\n",
    "quickSort2(C)\n",
    "end=time.time() \n",
    "for item in C:\n",
    "    f.write(item+\" \")          \n",
    "f.write(\"\\n\")\n",
    "print(\"Time Taken for quick sort:\",end-start)\n"
   ]
  },
  {
   "cell_type": "code",
   "execution_count": 45,
   "metadata": {},
   "outputs": [
    {
     "name": "stdout",
     "output_type": "stream",
     "text": [
      "Time Taken for insertion sort: 15.529560804367065\n",
      "Time Taken for merge sort: 0.08614063262939453\n",
      "Time Taken for quick sort: 0.5642321109771729\n"
     ]
    }
   ],
   "source": [
    "array4 = open(\"10000.txt\",'r') \n",
    "D = array4. read(). splitlines()\n",
    "start=time.time()\n",
    "insertion_sort(D)\n",
    "end=time.time() \n",
    "for item in D:\n",
    "    f.write(item+\" \")         \n",
    "f.write(\"\\n\")\n",
    "print(\"Time Taken for insertion sort:\",end-start)\n",
    "start=time.time()\n",
    "mergeSort(D)\n",
    "end=time.time() \n",
    "for item in D:\n",
    "    f.write(item+\" \")          \n",
    "f.write(\"\\n\")\n",
    "print(\"Time Taken for merge sort:\",end-start)\n",
    "start=time.time()\n",
    "quickSort1(D)\n",
    "quickSort2(D)\n",
    "end=time.time() \n",
    "for item in D:\n",
    "    f.write(item+\" \")          \n",
    "f.write(\"\\n\")\n",
    "print(\"Time Taken for quick sort:\",end-start)"
   ]
  },
  {
   "cell_type": "code",
   "execution_count": 46,
   "metadata": {},
   "outputs": [
    {
     "name": "stdout",
     "output_type": "stream",
     "text": [
      "Time Taken for insertion sort: 1788.8714520931244\n",
      "Time Taken for merge sort: 2.18674635887146\n",
      "Time Taken for quick sort: 29.014342784881592\n"
     ]
    }
   ],
   "source": [
    "array5 = open(\"100000.txt\",'r') \n",
    "E = array5. read(). splitlines()    \n",
    "start=time.time()\n",
    "insertion_sort(E)\n",
    "end=time.time() \n",
    "for item in E:\n",
    "    f.write(item+\" \")         \n",
    "f.write(\"\\n\")\n",
    "print(\"Time Taken for insertion sort:\",end-start)\n",
    "start=time.time()\n",
    "mergeSort(E)\n",
    "end=time.time() \n",
    "for item in E:\n",
    "    f.write(item+\" \")          \n",
    "f.write(\"\\n\")\n",
    "print(\"Time Taken for merge sort:\",end-start)\n",
    "start=time.time()\n",
    "quickSort1(E)\n",
    "quickSort2(E)\n",
    "end=time.time() \n",
    "for item in E:\n",
    "    f.write(item+\" \")          \n",
    "f.write(\"\\n\")\n",
    "print(\"Time Taken for quick sort:\",end-start)"
   ]
  },
  {
   "cell_type": "markdown",
   "metadata": {},
   "source": [
    "## COMPARISON GRAPH"
   ]
  },
  {
   "cell_type": "code",
   "execution_count": 25,
   "metadata": {},
   "outputs": [],
   "source": [
    "def tryItABunch(myFn, startN=10, endN=100, stepSize=10, numTrials=20, listMax = 10):\n",
    "    nValues = []\n",
    "    tValues = []\n",
    "    for n in range(startN, endN, stepSize):\n",
    "        runtime = 0\n",
    "        for t in range(numTrials):\n",
    "            lst = [ choice(range(listMax)) for i in range(n) ] # generate a random list of length n\n",
    "            start = time.time()\n",
    "            myFn( lst )\n",
    "            end = time.time()\n",
    "            runtime += (end - start) * 1000 # measure in milliseconds\n",
    "        runtime = runtime/numTrials\n",
    "        nValues.append(n)\n",
    "        tValues.append(runtime)\n",
    "    return nValues, tValues"
   ]
  },
  {
   "cell_type": "code",
   "execution_count": 28,
   "metadata": {},
   "outputs": [
    {
     "data": {
      "text/plain": [
       "Text(0.5, 1.0, 'Insertion Sort, Merge Sort and Quick Sort')"
      ]
     },
     "execution_count": 28,
     "metadata": {},
     "output_type": "execute_result"
    },
    {
     "data": {
      "image/png": "[encoded data removed]",
      "text/plain": [
       "<Figure size 432x288 with 1 Axes>"
      ]
     },
     "metadata": {
      "needs_background": "light"
     },
     "output_type": "display_data"
    }
   ],
   "source": [
    "a,b = tryItABunch( mergeSort, startN = 50, endN = 1050, stepSize=50, numTrials=10, listMax = 10)\n",
    "c,d = tryItABunch(insertion_sort, startN = 50, endN = 1050, stepSize=50, numTrials=10, listMax = 10 )\n",
    "e,f = tryItABunch( quickSort1, startN = 50, endN = 1050, stepSize=50, numTrials=5, listMax = 10) \n",
    "\n",
    "plt.plot(a,b, color=\"red\", label=\"Merge Sort\")\n",
    "plt.plot(c,d, color=\"blue\", label=\"Insertion Sort\")\n",
    "plt.plot(e,f, color=\"green\", label=\"Quick Sort\")\n",
    "plt.xlabel(\"n\")\n",
    "plt.ylabel(\"Time(ms)\")\n",
    "plt.legend()\n",
    "plt.title(\"Insertion Sort, Merge Sort and Quick Sort\")"
   ]
  },
  {
   "cell_type": "code",
   "execution_count": null,
   "metadata": {},
   "outputs": [],
   "source": []
  }
 ],
 "metadata": {
  "kernelspec": {
   "display_name": "Python 3",
   "language": "python",
   "name": "python3"
  },
  "language_info": {
   "codemirror_mode": {
    "name": "ipython",
    "version": 3
   },
   "file_extension": ".py",
   "mimetype": "text/x-python",
   "name": "python",
   "nbconvert_exporter": "python",
   "pygments_lexer": "ipython3",
   "version": "3.7.6"
  }
 },
 "nbformat": 4,
 "nbformat_minor": 4
}
