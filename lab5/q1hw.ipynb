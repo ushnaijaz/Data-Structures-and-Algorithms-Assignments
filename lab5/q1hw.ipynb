
{
 "cells": [
  {
   "cell_type": "markdown",
   "metadata": {},
   "source": [
    "## Majority Element"
   ]
  },
  {
   "cell_type": "code",
   "execution_count": 28,
   "metadata": {},
   "outputs": [
    {
     "name": "stdout",
     "output_type": "stream",
     "text": [
      "2\n"
     ]
    }
   ],
   "source": [
    "def majorityElement(arr):\n",
    "    if len(arr) == 0:\n",
    "        return -1\n",
    "    if len(arr) == 1:\n",
    "        return arr[0]\n",
    "    half = len(arr) // 2\n",
    "    L = majorityElement(arr[0:half])\n",
    "    R = majorityElement(arr[half:])\n",
    "    if L == R:\n",
    "        return L\n",
    "    if arr.count(L) > half:\n",
    "        return L\n",
    "    if arr.count(R) > half:\n",
    "        return R\n",
    "    return -1\n",
    "\n",
    "arr = [2, 2, 2, 2, 3, 5, 6]\n",
    "print(majorityElement(arr))\n",
    " \n"
   ]
  },
  {
   "cell_type": "code",
   "execution_count": null,
   "metadata": {},
   "outputs": [],
   "source": []
  }
 ],
 "metadata": {
  "kernelspec": {
   "display_name": "Python 3",
   "language": "python",
   "name": "python3"
  },
  "language_info": {
   "codemirror_mode": {
    "name": "ipython",
    "version": 3
   },
   "file_extension": ".py",
   "mimetype": "text/x-python",
   "name": "python",
   "nbconvert_exporter": "python",
   "pygments_lexer": "ipython3",
   "version": "3.7.6"
  }
 },
 "nbformat": 4,
 "nbformat_minor": 4
}
