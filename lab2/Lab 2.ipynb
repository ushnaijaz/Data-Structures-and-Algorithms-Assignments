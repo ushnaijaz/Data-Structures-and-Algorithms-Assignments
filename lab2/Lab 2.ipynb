{
 "cells": [
  {
   "cell_type": "markdown",
   "id": "consecutive-belly",
   "metadata": {},
   "source": []
  },
  {
   "cell_type": "markdown",
   "id": "multiple-intervention",
   "metadata": {},
   "source": [
    "# Q no 1"
   ]
  },
  {
   "cell_type": "markdown",
   "id": "solar-charity",
   "metadata": {},
   "source": [
    "# (a)"
   ]
  },
  {
   "cell_type": "code",
   "execution_count": 1,
   "id": "cultural-default",
   "metadata": {},
   "outputs": [],
   "source": [
    "# Helper Functions\n",
    "\n",
    "def getDigits(x): \n",
    "    return [ int(a) for a in str(x) ]\n",
    "\n",
    "def getVal(x):\n",
    "    return int(''.join([str(i) for i in x]))\n",
    "\n",
    "# Adding Binary Numbers\n",
    "\n",
    "def add(A, B):\n",
    "    (a, b) = (getDigits(A), getDigits(B)) if len(getDigits(A))>len(getDigits(B)) else (getDigits(B), getDigits(A))\n",
    "    C = 2 # Base for a Binary Number.\n",
    "    n = len(a)\n",
    "    for i in range(n-len(b)):\n",
    "        b.insert(0, 0)\n",
    "    carry = 0\n",
    "    SUM = []\n",
    "    for i in range(-1, -n-1, -1):\n",
    "        Sum = carry + a[i] + b[i]\n",
    "        carry = 0\n",
    "        if Sum>=C:\n",
    "            carry = Sum//C\n",
    "            Sum = Sum%C\n",
    "        SUM.insert(0, Sum)\n",
    "    \n",
    "    SUM.insert(0, carry%C)\n",
    "    SUM.insert(0, carry//C)\n",
    "    return getVal(SUM)\n",
    "\n",
    "# Subtracting Binary Numbers\n",
    "\n",
    "def sub(A, B):\n",
    "    (a, b, Value) = (getDigits(A), getDigits(B), True) if A>B else (getDigits(B), getDigits(A), False)\n",
    "    C = 2 # Base for a Binary Number.\n",
    "    n = len(a)\n",
    "    for i in range(n-len(b)):\n",
    "        b.insert(0, 0)\n",
    "    SUB = []\n",
    "    for i in range(-1, -n-1, -1):\n",
    "        if a[i]<b[i]:\n",
    "            try:\n",
    "                a[i-1] -= 1\n",
    "                a[i] += 2\n",
    "            except:\n",
    "                pass\n",
    "        sub = a[i] - b[i]\n",
    "        SUB.insert(0, sub)\n",
    "    if not Value:\n",
    "        SUB.insert(0, '-')\n",
    "    return getVal(SUB)"
   ]
  },
  {
   "cell_type": "code",
   "execution_count": 2,
   "id": "combined-presence",
   "metadata": {},
   "outputs": [],
   "source": [
    "# Karatsuba's Algorithm for Binary Multiplication\n",
    "\n",
    "def karatsuba( X, Y):\n",
    "    return karatsuba_helper( getDigits(X), getDigits(Y))\n",
    "\n",
    "def karatsuba_helper( x, y):  \n",
    "    n = max( len(x), len(y) )\n",
    "    while len(x) < n:\n",
    "        x.insert(0,0)\n",
    "    while len(y) < n:\n",
    "        y.insert(0,0)\n",
    "    if n == 1:\n",
    "        return x[0]*y[0]\n",
    "    mid = round(n/2)\n",
    "    xhigh = x[:mid]\n",
    "    xlow = x[mid:] \n",
    "    yhigh = y[:mid]\n",
    "    ylow = y[mid:]\n",
    "    highhigh = karatsuba_helper( xhigh , yhigh)\n",
    "    lowlow = karatsuba_helper( xlow , ylow)\n",
    "    tmpTerm = karatsuba_helper( getDigits( add(getVal(xlow) , getVal(xhigh)) ) , getDigits( add(getVal(ylow) , getVal(yhigh))))\n",
    "    middleTerm = sub(sub(tmpTerm , highhigh) , lowlow)\n",
    "    \n",
    "    HH = getDigits(highhigh) + [ 0 for i in range(2*(n - mid))]\n",
    "    \n",
    "    MID = getDigits(middleTerm) + [0 for i in range(n-mid)]\n",
    "    \n",
    "    LL = getDigits(lowlow)\n",
    "    \n",
    "    result = add(add(getVal(HH) , getVal(MID)) , getVal(LL))\n",
    "    \n",
    "    return result"
   ]
  },
  {
   "cell_type": "code",
   "execution_count": 3,
   "id": "senior-calibration",
   "metadata": {},
   "outputs": [
    {
     "name": "stdout",
     "output_type": "stream",
     "text": [
      "100011\n",
      "10010\n"
     ]
    }
   ],
   "source": [
    "# Implementing the Above Algorithms\n",
    "print(karatsuba(111,101))\n",
    "print(karatsuba(110,11))"
   ]
  },
  {
   "cell_type": "markdown",
   "id": "experienced-persian",
   "metadata": {},
   "source": [
    "Karatsuba's Algorithm works fine for Binary Muliplication but doesn't work faster for larger numbers. Multiplication totally depends upon the length of a number, on decreasing the base, the length increases, which slows down the multiplication process."
   ]
  },
  {
   "cell_type": "markdown",
   "id": "understood-equivalent",
   "metadata": {},
   "source": [
    "# (b)"
   ]
  },
  {
   "cell_type": "markdown",
   "id": "informed-receiver",
   "metadata": {},
   "source": [
    "Yes, for a number x, the length of x’s base-b representation decreases as b increases. Multiplication totally depends upon the length of a number, on decreasing the base, the length increases."
   ]
  },
  {
   "cell_type": "markdown",
   "id": "retained-warner",
   "metadata": {},
   "source": [
    "# (c)"
   ]
  },
  {
   "cell_type": "markdown",
   "id": "physical-obligation",
   "metadata": {},
   "source": [
    "Karatsubha Algorithm has time complexity is O(n^1.6), for some large base the base representation becomes of length n=O(1). \n",
    "So,\n",
    "\n"
   ]
  },
  {
   "cell_type": "markdown",
   "id": "dominican-prayer",
   "metadata": {},
   "source": [
    "n = O(1)"
   ]
  },
  {
   "cell_type": "markdown",
   "id": "suited-particle",
   "metadata": {},
   "source": [
    "Time Complexity = O(n^1.6)"
   ]
  },
  {
   "cell_type": "markdown",
   "id": "relative-stranger",
   "metadata": {},
   "source": [
    " = O(1^1.6)"
   ]
  },
  {
   "cell_type": "markdown",
   "id": "grave-temperature",
   "metadata": {},
   "source": [
    " = O(1) "
   ]
  },
  {
   "cell_type": "markdown",
   "id": "interpreted-fishing",
   "metadata": {},
   "source": [
    "Therefore, we can multiply any two integers in time O(1)."
   ]
  },
  {
   "cell_type": "markdown",
   "id": "valid-museum",
   "metadata": {},
   "source": [
    "_______________________________________________________________________________________________________________________________"
   ]
  },
  {
   "cell_type": "markdown",
   "id": "limiting-constraint",
   "metadata": {},
   "source": [
    "# Q no 2"
   ]
  },
  {
   "cell_type": "markdown",
   "id": "distinct-preliminary",
   "metadata": {},
   "source": [
    "# (a)"
   ]
  },
  {
   "cell_type": "markdown",
   "id": "pretty-excess",
   "metadata": {},
   "source": [
    "Description:"
   ]
  },
  {
   "cell_type": "markdown",
   "id": "advanced-blocking",
   "metadata": {},
   "source": [
    "1) A list with Tuples as Input showing the Enter and Leave Time respectively of a User."
   ]
  },
  {
   "cell_type": "markdown",
   "id": "generic-kitchen",
   "metadata": {},
   "source": [
    "2) For each Tuple in the List, check all other tuples."
   ]
  },
  {
   "cell_type": "markdown",
   "id": "decreased-kennedy",
   "metadata": {},
   "source": [
    "3) Now at each iteration, we will be having two tuples, lets say X (x1 , x2) and Y (y1 , y2) where x1,y1 and x2,y2 are the starting and ending times of X and Y."
   ]
  },
  {
   "cell_type": "markdown",
   "id": "visible-isaac",
   "metadata": {},
   "source": [
    "4) For each iteration check if x1>y2 i.e., x entered before y left and x2>y1 i.e., x left after y entered."
   ]
  },
  {
   "cell_type": "markdown",
   "id": "figured-retro",
   "metadata": {},
   "source": [
    "5) If above condition is true, the both users are online at the same time, check if they are already in the Result List, if Yes then ignore, else append them to the Result List."
   ]
  },
  {
   "cell_type": "markdown",
   "id": "fluid-favor",
   "metadata": {},
   "source": [
    "6) Our Result List will be having Tuples Showing two users who are at the site at the same time."
   ]
  },
  {
   "cell_type": "code",
   "execution_count": 4,
   "id": "curious-listing",
   "metadata": {},
   "outputs": [],
   "source": [
    "def NewFriends(A):        # A list with Tuples as Input showing the Enter and Leave Time respectively of a User.\n",
    "    B = []                # The List will be storing the results (output).\n",
    "    for a in range(len(A)):\n",
    "        for b in range(len(A)):\n",
    "            if a==b:     # ignore the tuple itself.\n",
    "                continue\n",
    "            if A[a][1]>=A[b][0] and A[a][0]<=A[b][1]:\n",
    "                if (b+1, a+1) in B:    # if the resulting tuple is already in the result list.\n",
    "                    continue\n",
    "                B.append((a+1, b+1))\n",
    "    return B"
   ]
  },
  {
   "cell_type": "markdown",
   "id": "recorded-function",
   "metadata": {},
   "source": [
    "Run Time Analysis:"
   ]
  },
  {
   "cell_type": "markdown",
   "id": "capital-pollution",
   "metadata": {},
   "source": [
    "The Algorithm takes time about n^2, in the first for loop it will take n iterations and in the second for loop it will again move n iterations."
   ]
  },
  {
   "cell_type": "markdown",
   "id": "equipped-badge",
   "metadata": {},
   "source": [
    "# (b)"
   ]
  },
  {
   "cell_type": "markdown",
   "id": "correct-jenny",
   "metadata": {},
   "source": [
    "Description:"
   ]
  },
  {
   "cell_type": "markdown",
   "id": "given-brick",
   "metadata": {},
   "source": [
    "1) A list with Tuples as Input showing the Enter and Leave Time respectively of a User."
   ]
  },
  {
   "cell_type": "markdown",
   "id": "seven-financing",
   "metadata": {},
   "source": [
    "2) Divide the List into Two Parts."
   ]
  },
  {
   "cell_type": "markdown",
   "id": "presidential-postage",
   "metadata": {},
   "source": [
    "3) Evaluate for each part seperately."
   ]
  },
  {
   "cell_type": "code",
   "execution_count": 5,
   "id": "fatty-prediction",
   "metadata": {},
   "outputs": [],
   "source": [
    "def NewAlgo(A,B): \n",
    "    C = []         \n",
    "    for a in range(len(A)):\n",
    "        for b in range(len(B)):\n",
    "            if A[a][1]>=B[b][0] and A[a][0]<=B[b][1]:\n",
    "                if (b+1, a+1) in C:   \n",
    "                    continue\n",
    "                C.append((a+1, b+1))\n",
    "    return C\n",
    "\n",
    "def New(A):\n",
    "    n = len(A)\n",
    "    if n == 1:\n",
    "        return A\n",
    "    else:\n",
    "        B = New(A[:n//2])\n",
    "        C = New(A[n//2:])\n",
    "        return NewAlgo(B,C)"
   ]
  },
  {
   "cell_type": "markdown",
   "id": "negative-yukon",
   "metadata": {},
   "source": [
    "Run Time Analysis:"
   ]
  },
  {
   "cell_type": "markdown",
   "id": "accepting-monkey",
   "metadata": {},
   "source": [
    "The Algorithm takes time about n log(n), the problem is divided into two parts but the algorithm isn't working fine."
   ]
  },
  {
   "cell_type": "markdown",
   "id": "rubber-carolina",
   "metadata": {},
   "source": [
    "Implementing the Above Algorithms"
   ]
  },
  {
   "cell_type": "code",
   "execution_count": 6,
   "id": "boxed-rehabilitation",
   "metadata": {},
   "outputs": [
    {
     "name": "stdout",
     "output_type": "stream",
     "text": [
      "[(1, 3), (1, 6), (2, 3), (2, 4), (2, 6), (3, 4), (3, 6), (4, 6)]\n",
      "[]\n"
     ]
    }
   ],
   "source": [
    "# Implementing the above algorithms.\n",
    "A=[(1,2),(3,5),(1,6),(4,4),(9,10),(2,5)]\n",
    "print(NewFriends(A))\n",
    "print(New(A))"
   ]
  },
  {
   "cell_type": "markdown",
   "id": "velvet-guess",
   "metadata": {},
   "source": [
    "_______________________________________________________________________________________________________________________________"
   ]
  },
  {
   "cell_type": "markdown",
   "id": "forced-brazil",
   "metadata": {},
   "source": [
    "# Q no 3:"
   ]
  },
  {
   "cell_type": "markdown",
   "id": "inside-tissue",
   "metadata": {},
   "source": [
    "# (a)"
   ]
  },
  {
   "cell_type": "markdown",
   "id": "prepared-grill",
   "metadata": {},
   "source": [
    "Description:"
   ]
  },
  {
   "cell_type": "markdown",
   "id": "operational-lobby",
   "metadata": {},
   "source": [
    "We will be taking an array of 'n' toads and compare them one by one, if we found a toad trustworthy,we will add 1 to our count variable and repeat the process until we have checked for all toads. Below is a Python Code, the function named \"work\" takes an array and iterates over it one by one, the function \"Toad_To_Toad\" makes comparisons and returns the results.\n",
    "The work function has two for loops, one exectues n times and the second one iterates about n-1 times so it makes up O(n^2)."
   ]
  },
  {
   "cell_type": "code",
   "execution_count": 7,
   "id": "nutritional-height",
   "metadata": {},
   "outputs": [],
   "source": [
    "def Toad_To_Toad(X,Y):\n",
    "    if X=='Trust':\n",
    "        if B == 'Trust':\n",
    "            return 'Trust'\n",
    "        return 'Tricky'\n",
    "    return random.choices(['Trust', 'Tricky'])[0]\n",
    "\n",
    "def work(A):\n",
    "    for j in range(len(A)):\n",
    "        count = 0\n",
    "        for i in range(len(A)):\n",
    "            if Toad_To_Toad(A[i], A[j]) == 'Trust':\n",
    "                count+=1\n",
    "            if count>len(A)/2:\n",
    "                print(j,'is a TrustWorthy Toad.')\n",
    "                break\n"
   ]
  },
  {
   "cell_type": "markdown",
   "id": "reverse-integration",
   "metadata": {},
   "source": [
    "# (b)"
   ]
  },
  {
   "cell_type": "markdown",
   "id": "environmental-topic",
   "metadata": {},
   "source": [
    "We are having n toads, where n is even, so that there are strictly more than n/2 trustworthy toads. We arrange all toads in pairs. Every toad is only assigned once. We will break the list of toads into two parts and will evaluate seperately. Now we have n/2 comparisons for both parts so comparisons will not be more than n/2."
   ]
  },
  {
   "cell_type": "code",
   "execution_count": null,
   "id": "threatened-distribution",
   "metadata": {},
   "outputs": [],
   "source": [
    "def Toads(A):\n",
    "    n = len(A)\n",
    "    if n == 1:\n",
    "        return A\n",
    "    else:\n",
    "        B = New(A[:n//2])\n",
    "        C = New(A[n//2:])\n",
    "        return Even(B,C)\n",
    "    \n",
    "def Even(A,B): \n",
    "    C = work(A)\n",
    "    D = work(B)        \n",
    "\n"
   ]
  },
  {
   "cell_type": "markdown",
   "id": "practical-freeware",
   "metadata": {},
   "source": [
    "# (c)"
   ]
  },
  {
   "cell_type": "markdown",
   "id": "convenient-expense",
   "metadata": {},
   "source": [
    "We leave alone the Toad Zero, and process the as even number toads as in (b). "
   ]
  },
  {
   "cell_type": "markdown",
   "id": "jewish-grill",
   "metadata": {},
   "source": [
    "# (d)"
   ]
  },
  {
   "cell_type": "markdown",
   "id": "second-copyright",
   "metadata": {},
   "source": [
    "1) Divide the problem into two parts.\n",
    "\n",
    "\n",
    "\n"
   ]
  },
  {
   "cell_type": "markdown",
   "id": "narrative-transparency",
   "metadata": {},
   "source": [
    "2) Use For Loop to make comparisons."
   ]
  },
  {
   "cell_type": "markdown",
   "id": "injured-frame",
   "metadata": {},
   "source": [
    "3) Where we get a trust worthy toad, break the Loop."
   ]
  },
  {
   "cell_type": "markdown",
   "id": "another-velvet",
   "metadata": {},
   "source": [
    "4) Recall the function recursively untill  desired output is obtained."
   ]
  },
  {
   "cell_type": "markdown",
   "id": "complicated-highlight",
   "metadata": {},
   "source": [
    "5) It will be taking O(n) comparisons due to a single For Loop."
   ]
  },
  {
   "cell_type": "markdown",
   "id": "protecting-contractor",
   "metadata": {},
   "source": [
    "# (e)"
   ]
  },
  {
   "cell_type": "markdown",
   "id": "dying-junior",
   "metadata": {},
   "source": [
    "Hypothesis:"
   ]
  },
  {
   "cell_type": "markdown",
   "id": "greatest-buddy",
   "metadata": {},
   "source": [
    "O(n)."
   ]
  },
  {
   "cell_type": "markdown",
   "id": "sunrise-headline",
   "metadata": {},
   "source": [
    "Base Case:"
   ]
  },
  {
   "cell_type": "markdown",
   "id": "cardiovascular-canvas",
   "metadata": {},
   "source": [
    "If there is one toad so there will be only one comparison. The one toad must be trustworthy.\n"
   ]
  },
  {
   "cell_type": "markdown",
   "id": "private-cologne",
   "metadata": {},
   "source": [
    "Inductive Case:"
   ]
  },
  {
   "cell_type": "markdown",
   "id": "premier-privacy",
   "metadata": {},
   "source": [
    "For k toads, there will be k comparisons resulting in O(k)."
   ]
  },
  {
   "cell_type": "markdown",
   "id": "arctic-binding",
   "metadata": {},
   "source": [
    "# (f)"
   ]
  },
  {
   "cell_type": "markdown",
   "id": "crazy-problem",
   "metadata": {},
   "source": [
    "O(n) "
   ]
  },
  {
   "cell_type": "markdown",
   "id": "needed-conversion",
   "metadata": {},
   "source": [
    "# (g)"
   ]
  },
  {
   "cell_type": "markdown",
   "id": "retained-terrace",
   "metadata": {},
   "source": [
    " Arrange the toads in pairs so that no toad is repeated.Use For Loop for iterations and if else statements for comparisons.\n"
   ]
  },
  {
   "cell_type": "code",
   "execution_count": null,
   "id": "civil-campus",
   "metadata": {},
   "outputs": [],
   "source": []
  }
 ],
 "metadata": {
  "kernelspec": {
   "display_name": "Python 3",
   "language": "python",
   "name": "python3"
  },
  "language_info": {
   "codemirror_mode": {
    "name": "ipython",
    "version": 3
   },
   "file_extension": ".py",
   "mimetype": "text/x-python",
   "name": "python",
   "nbconvert_exporter": "python",
   "pygments_lexer": "ipython3",
   "version": "3.8.7"
  }
 },
 "nbformat": 4,
 "nbformat_minor": 5
}
