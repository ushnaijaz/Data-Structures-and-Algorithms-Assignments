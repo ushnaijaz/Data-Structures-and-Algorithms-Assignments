{
 "cells": [
  {
   "cell_type": "markdown",
   "metadata": {},
   "source": [
    "# Q2: Given an array A of n elements, we call (i, j) an inversion if 0 ≤ I\n",
    "## < j < n and A[i] > A[j].\n"
   ]
  },
  {
   "cell_type": "markdown",
   "metadata": {},
   "source": [
    "## (a) Describe an O(n2) algorithm to count the number of inversions in a given array."
   ]
  },
  {
   "cell_type": "code",
   "execution_count": 10,
   "metadata": {},
   "outputs": [
    {
     "name": "stdout",
     "output_type": "stream",
     "text": [
      "Inversion count: 8\n"
     ]
    }
   ],
   "source": [
    "def findInversionCount(A):\n",
    " \n",
    "    inverCnt = 0\n",
    "    for i in range(len(A) - 1):\n",
    "        for j in range(i + 1, len(A)):\n",
    "            if A[i] > A[j]:\n",
    "                inverCnt = inverCnt + 1\n",
    " \n",
    "    return inverCnt\n",
    " \n",
    "\n",
    "if __name__ == '__main__':\n",
    "     \n",
    "    A = [2,8,34,12,7,5]\n",
    "    print(\"Inversion count:\", findInversionCount(A))"
   ]
  },
  {
   "cell_type": "markdown",
   "metadata": {},
   "source": [
    "\n",
    "## (b) Describe an O(n*log(n)) algorithm to count the number of inversions in a given array."
   ]
  },
  {
   "cell_type": "code",
   "execution_count": null,
   "metadata": {},
   "outputs": [],
   "source": [
    "#for help\n",
    "def merge(L, R):\n",
    "    i = 0 \n",
    "    j = 0 \n",
    "    ret = []\n",
    "    while i < len(L) and j < len(R):\n",
    "        if L[i] < R[j]:\n",
    "            ret.append(L[i])\n",
    "            i += 1\n",
    "        else:   \n",
    "            ret.append(R[j])\n",
    "            j += 1\n",
    "    while i < len(L):\n",
    "        ret.append(L[i])\n",
    "        i += 1\n",
    "    while j < len(R):\n",
    "        ret.append(R[j])\n",
    "        j+= 1\n",
    "    return ret\n",
    "        \n",
    "def mergeSort(A):\n",
    "    n = len(A)\n",
    "    if n <= 1:\n",
    "        return A\n",
    "    L = mergeSort(A[:round(n/2)])\n",
    "    R = mergeSort(A[round(n/2):n])\n",
    "    return merge(L,R)"
   ]
  },
  {
   "cell_type": "code",
   "execution_count": 89,
   "metadata": {},
   "outputs": [
    {
     "name": "stdout",
     "output_type": "stream",
     "text": [
      "Inversion count: 4\n"
     ]
    }
   ],
   "source": [
    "def merge(L,R):\n",
    "    i=0\n",
    "    j=0\n",
    "    ret = []\n",
    "    invcount=0\n",
    "    while i<len(L) and j<len(R):\n",
    "        if(L[i]>R[j]):\n",
    "            ret.append(R[j])\n",
    "            invcount+= len(L)-i\n",
    "            j+=1\n",
    "        else:\n",
    "            ret.append(L[i])\n",
    "            i+=1\n",
    "    while(i<len(L)):\n",
    "        ret.append(L[i])\n",
    "        i+=1\n",
    "    while(j<len(R)):\n",
    "        ret.append(R[j])\n",
    "        j+=1\n",
    "    return invcount\n",
    "\n",
    "def mergeInvcount(arr):\n",
    "    n = len(arr)\n",
    "    if n <= 1:\n",
    "        return 0\n",
    "    mid=n//2\n",
    "    invcount=0\n",
    "    L=arr[:mid]\n",
    "    R=arr[mid:n]\n",
    "    c1= mergeInvcount(L)\n",
    "    c2= mergeInvcount(R)\n",
    "    c3= merge(L,R)\n",
    "    invcount+=c1+c2+c3\n",
    "    return invcount\n",
    "\n",
    "arr = [4,2,1,22,244,6]\n",
    "print(\"Inversion count:\", mergeInvcount(arr))"
   ]
  },
  {
   "cell_type": "markdown",
   "metadata": {},
   "source": [
    "# Q3:  Design an algorithm to sort the ducks which takes O(n) seconds and requires you to remember no more than seven integers between 0 and n-1\tat a time."
   ]
  },
  {
   "cell_type": "markdown",
   "metadata": {},
   "source": [
    "Pseudocode: "
   ]
  },
  {
   "cell_type": "code",
   "execution_count": null,
   "metadata": {},
   "outputs": [],
   "source": [
    "sorttheducks(ducks):\n",
    "    \n",
    "    #honking ducks\n",
    "    for j in range(0,n-1):\n",
    "        if ask[j] = 'Left':\n",
    "            i += 1\n",
    "            swap(i, j)\n",
    "            \n",
    "#we then put the idling ducks(center)\n",
    "#to the left of the eating ducks(right)       \n",
    "            \n",
    "    #idling ducks\n",
    "    for j in range(0,n-1):\n",
    "        if ask[j] = 'center':\n",
    "            i += 1\n",
    "            swap(i, j)\n",
    "    \n",
    " \n"
   ]
  }
 ],
 "metadata": {
  "kernelspec": {
   "display_name": "Python 3",
   "language": "python",
   "name": "python3"
  },
  "language_info": {
   "codemirror_mode": {
    "name": "ipython",
    "version": 3
   },
   "file_extension": ".py",
   "mimetype": "text/x-python",
   "name": "python",
   "nbconvert_exporter": "python",
   "pygments_lexer": "ipython3",
   "version": "3.7.6"
  }
 },
 "nbformat": 4,
 "nbformat_minor": 4
}
